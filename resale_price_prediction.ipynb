{
 "cells": [
  {
   "cell_type": "markdown",
   "id": "0edb4293",
   "metadata": {},
   "source": [
    "## Business Problem Description:\n",
    "### Enhancing Profitability and Market Efficiency in the Used Fashion Industry through Accurate Price Prediction"
   ]
  },
  {
   "cell_type": "markdown",
   "id": "6162c027",
   "metadata": {},
   "source": [
    "The used fashion industry has seen significant growth in recent years, driven by consumer interest in sustainability, affordability, and unique fashion choices. This market, comprising thrift stores, online marketplaces, and consignment shops, faces a unique challenge: accurately pricing used clothing and accessories. Incorrect pricing can lead to lost revenue, inventory stagnation, and customer dissatisfaction.\n",
    "\n",
    "One of the primary challenges in the used fashion market is determining the optimal resale price of items. This price must balance profitability for sellers and attractiveness for buyers, considering factors such as brand, condition, style, and market demand. Currently, many sellers rely on manual appraisal or simplistic models, leading to inconsistent and often suboptimal pricing.\n",
    "\n",
    "There is a need for a sophisticated, data-driven price prediction model that can provide accurate pricing recommendations for used fashion items. Such a model would enable sellers to maximize their revenue while ensuring competitive pricing for buyers. It would also streamline the pricing process, reducing the time and effort required for manual appraisal."
   ]
  },
  {
   "cell_type": "markdown",
   "id": "f5cd2392",
   "metadata": {},
   "source": [
    "## About the dataset:"
   ]
  },
  {
   "cell_type": "markdown",
   "id": "ea1d7b9c",
   "metadata": {},
   "source": [
    "### Adidas Fashion Retail Products Dataset: 9300+ Products\n",
    "https://www.kaggle.com/datasets/thedevastator/adidas-fashion-retail-products-dataset-9300-prod"
   ]
  },
  {
   "cell_type": "markdown",
   "id": "4e659abd",
   "metadata": {},
   "source": [
    "This dataset contains information on over 1500+ Adidas fashion products. The data includes fields such as name, selling price, original price, currency, availability, color, category, source website, breadcrumbs, description, brand, images, country, language, average rating and reviews count. This data was collected from a variety of sources and compiled into one dataset for research purposes\n",
    "\n",
    "This Adidas fashion dataset provides rich product information for over 9300+ products. It contains detailed information on product selling price, original price in multiple currencies ( USD / EUR / GBP ), product availability ( in stock / out of stock ), color , Category ( such as Apparel / Footwear ), source website , breadcrumbs , product description , brand name , link to product images , Country of origin and language . The average rating and reviews count are also included in the dataset so that researchers can study the correlation between them"
   ]
  },
  {
   "cell_type": "markdown",
   "id": "3da993c0",
   "metadata": {},
   "source": [
    "### Independent variables\n",
    "\n",
    "\n",
    "| Column name | Description |\n",
    "| --- | --- |\n",
    "| **name** | The name of the product. (String) |\n",
    "| **sku** | The SKU or unique identifier for the product. (String) |\n",
    "| **original_price** | The original price of the product in USD or Euros. (Float) |\n",
    "| **currency** | The currency type for the selling price and original price. (String) |\n",
    "| **availability** | The availability of the product. (String) |\n",
    "| **color** | The color of the product. (String) |\n",
    "| **category** | The category of the product. (String) |\n",
    "| **source_website** | The source website from where the data was collected. (String) |\n",
    "| **breadcrumbs** | The breadcrumbs or path to the product page on the source website. (String) |\n",
    "| **description** | A brief description of the product provided by Adidas. (String) |\n",
    "| **brand** | The brand of the product. (String) |\n",
    "| **images** | Multiple product images provided by Adidas. (String) |\n",
    "| **country** | The country of origin/destination for the product. (String) |\n",
    "| **language** | The language in which the product page was displayed on the source website. (String) |\n",
    "| **average_rating** | The average customer rating out of 5 stars. (Float) |\n",
    "| **reviews_count** | The number of customer reviews for the product. (Integer) |\n",
    "| **crawled_at** | The date and time when the data was collected. (String) |\n",
    "\n",
    "\n",
    "### dependent variable (target variable)\n",
    "| **selling_price** | The selling price of the product in USD or Euros. (Float) "
   ]
  },
  {
   "cell_type": "markdown",
   "id": "c2b0b3e4",
   "metadata": {},
   "source": [
    "### ML"
   ]
  },
  {
   "cell_type": "markdown",
   "id": "9d84d1fb",
   "metadata": {},
   "source": [
    "This is a typically Regression Problem and RMSE should be a good evaluation metric for price prediction.\n",
    "\n",
    "The Root Mean Square Error (RMSE) is calculated as:\n",
    "\n",
    "$$\n",
    "RMSE = \\sqrt{\\frac{1}{n}\\sum_{i=1}^{n}(y_i - \\hat{y}_i)^2}\n",
    "$$\n",
    "\n",
    "where:\n",
    "- $n$ is the total number of observations,\n",
    "- $y_i$ is the actual value of the i-th observation,\n",
    "- $\\hat{y}_i$ is the predicted value of the i-th observation.\n",
    "\n",
    "RMSE squares the errors before averaging, which gives a higher weight to larger errors. This is especially useful in price prediction because it penalizes large deviations more heavily. In scenarios where overestimating or underestimating prices can have significant impacts , RMSE ensures that the model is particularly tuned to minimize these large errors."
   ]
  },
  {
   "cell_type": "markdown",
   "id": "a42af694",
   "metadata": {},
   "source": [
    "## EDA"
   ]
  },
  {
   "cell_type": "markdown",
   "id": "3a9a8a55",
   "metadata": {},
   "source": [
    "#### Loading data"
   ]
  },
  {
   "cell_type": "code",
   "execution_count": 1,
   "id": "4b5b69ae",
   "metadata": {},
   "outputs": [],
   "source": [
    "import pandas as pd\n",
    "from sklearn.model_selection import train_test_split\n",
    "\n",
    "# Load the data\n",
    "df = pd.read_csv('adidas_usa.csv')\n",
    "# drop index and url\n",
    "df = df.drop(['index','url','sku','images','crawled_at'],axis=1)"
   ]
  },
  {
   "cell_type": "markdown",
   "id": "c649a790",
   "metadata": {},
   "source": [
    "##### Drop all 1 unique columns"
   ]
  },
  {
   "cell_type": "code",
   "execution_count": 2,
   "id": "534444a3",
   "metadata": {},
   "outputs": [
    {
     "name": "stdout",
     "output_type": "stream",
     "text": [
      "Index(['name', 'selling_price', 'original_price', 'currency', 'availability',\n",
      "       'color', 'category', 'source', 'source_website', 'breadcrumbs',\n",
      "       'description', 'brand', 'country', 'language', 'average_rating',\n",
      "       'reviews_count'],\n",
      "      dtype='object')\n"
     ]
    }
   ],
   "source": [
    "# print features\n",
    "print(df.columns)"
   ]
  },
  {
   "cell_type": "code",
   "execution_count": 3,
   "id": "30396655",
   "metadata": {},
   "outputs": [
    {
     "name": "stdout",
     "output_type": "stream",
     "text": [
      "Index(['name', 'selling_price', 'original_price', 'availability', 'color',\n",
      "       'category', 'breadcrumbs', 'description', 'average_rating',\n",
      "       'reviews_count'],\n",
      "      dtype='object')\n"
     ]
    }
   ],
   "source": [
    "# drop all columns with only one unique value\n",
    "for col in df.columns:\n",
    "    if len(df[col].unique()) == 1:\n",
    "        df.drop(col, inplace=True, axis=1)\n",
    "\n",
    "# print features\n",
    "print(df.columns)"
   ]
  },
  {
   "cell_type": "markdown",
   "id": "ba6a8b00",
   "metadata": {},
   "source": [
    "#### Missing Value"
   ]
  },
  {
   "cell_type": "code",
   "execution_count": 4,
   "id": "fb5a317a",
   "metadata": {},
   "outputs": [
    {
     "name": "stdout",
     "output_type": "stream",
     "text": [
      "name               0\n",
      "selling_price      0\n",
      "original_price    16\n",
      "availability       0\n",
      "color              0\n",
      "category           0\n",
      "breadcrumbs        0\n",
      "description        0\n",
      "average_rating     0\n",
      "reviews_count      0\n",
      "dtype: int64\n",
      "Percentage of Nan values in original_price:\n",
      "1.8934911242603552\n",
      "Number of Nan values in original_price after drop Nan:\n",
      "0\n"
     ]
    }
   ],
   "source": [
    "# check number of Nan values\n",
    "print(df.isnull().sum())\n",
    "# check percentage of Nan values in original_price\n",
    "print('Percentage of Nan values in original_price:')\n",
    "print(df['original_price'].isnull().sum()/len(df)*100)\n",
    "\n",
    "# drop rows with Nan values in original_price\n",
    "df = df.dropna(subset=['original_price'])\n",
    "\n",
    "print('Number of Nan values in original_price after drop Nan:')\n",
    "print(df['original_price'].isnull().sum())"
   ]
  },
  {
   "cell_type": "code",
   "execution_count": 5,
   "id": "a9289827",
   "metadata": {},
   "outputs": [
    {
     "data": {
      "text/plain": [
       "name               object\n",
       "selling_price       int64\n",
       "original_price     object\n",
       "availability       object\n",
       "color              object\n",
       "category           object\n",
       "breadcrumbs        object\n",
       "description        object\n",
       "average_rating    float64\n",
       "reviews_count       int64\n",
       "dtype: object"
      ]
     },
     "execution_count": 5,
     "metadata": {},
     "output_type": "execute_result"
    }
   ],
   "source": [
    "# type of data\n",
    "df.dtypes"
   ]
  },
  {
   "cell_type": "code",
   "execution_count": 6,
   "id": "fae9d00a",
   "metadata": {},
   "outputs": [
    {
     "data": {
      "text/plain": [
       "$65     68\n",
       "$25     57\n",
       "$100    55\n",
       "$45     55\n",
       "$30     49\n",
       "Name: original_price, dtype: int64"
      ]
     },
     "execution_count": 6,
     "metadata": {},
     "output_type": "execute_result"
    }
   ],
   "source": [
    "# original price is not int, so we need to convert it to int\n",
    "df['original_price'].value_counts().head()"
   ]
  },
  {
   "cell_type": "code",
   "execution_count": 7,
   "id": "4e7e597e",
   "metadata": {},
   "outputs": [
    {
     "name": "stderr",
     "output_type": "stream",
     "text": [
      "C:\\Users\\xiaob\\AppData\\Local\\Temp\\ipykernel_51468\\3331688770.py:2: FutureWarning: The default value of regex will change from True to False in a future version. In addition, single character regular expressions will *not* be treated as literal strings when regex=True.\n",
      "  df['original_price'] = df['original_price'].str.replace('$','').fillna(0).astype(int)\n"
     ]
    },
    {
     "data": {
      "text/plain": [
       "65     68\n",
       "25     57\n",
       "100    55\n",
       "45     55\n",
       "30     49\n",
       "Name: original_price, dtype: int64"
      ]
     },
     "execution_count": 7,
     "metadata": {},
     "output_type": "execute_result"
    }
   ],
   "source": [
    "# remove the $ sign, replace NaN values with 0, and convert to int\n",
    "df['original_price'] = df['original_price'].str.replace('$','').fillna(0).astype(int)\n",
    "df['original_price'].value_counts().head()"
   ]
  },
  {
   "cell_type": "markdown",
   "id": "8513f839",
   "metadata": {},
   "source": [
    "#### Perform Analysis"
   ]
  },
  {
   "cell_type": "markdown",
   "id": "f48ae560",
   "metadata": {},
   "source": [
    "##### Price"
   ]
  },
  {
   "cell_type": "code",
   "execution_count": 8,
   "id": "154ef7ed",
   "metadata": {},
   "outputs": [
    {
     "name": "stderr",
     "output_type": "stream",
     "text": [
      "c:\\Users\\xiaob\\anaconda3\\lib\\site-packages\\seaborn\\distributions.py:2619: FutureWarning: `distplot` is a deprecated function and will be removed in a future version. Please adapt your code to use either `displot` (a figure-level function with similar flexibility) or `histplot` (an axes-level function for histograms).\n",
      "  warnings.warn(msg, FutureWarning)\n",
      "c:\\Users\\xiaob\\anaconda3\\lib\\site-packages\\seaborn\\distributions.py:2619: FutureWarning: `distplot` is a deprecated function and will be removed in a future version. Please adapt your code to use either `displot` (a figure-level function with similar flexibility) or `histplot` (an axes-level function for histograms).\n",
      "  warnings.warn(msg, FutureWarning)\n"
     ]
    },
    {
     "data": {
      "image/png": "[encoded data removed]",
      "text/plain": [
       "<Figure size 1008x432 with 2 Axes>"
      ]
     },
     "metadata": {
      "needs_background": "light"
     },
     "output_type": "display_data"
    }
   ],
   "source": [
    "import seaborn as sns\n",
    "import matplotlib.pyplot as plt\n",
    "\n",
    "# Density plots\n",
    "plt.figure(figsize=(14, 6))\n",
    "\n",
    "plt.subplot(1, 2, 1)\n",
    "sns.distplot(df['original_price'].dropna(), kde=True)\n",
    "plt.title('Distribution of Original Price')\n",
    "\n",
    "plt.subplot(1, 2, 2)\n",
    "sns.distplot(df['selling_price'].dropna(), kde=True)\n",
    "plt.title('Distribution of Selling Price')\n",
    "\n",
    "plt.show()"
   ]
  },
  {
   "cell_type": "code",
   "execution_count": 9,
   "id": "257ae240",
   "metadata": {},
   "outputs": [
    {
     "data": {
      "image/png": "[encoded data removed]",
      "text/plain": [
       "<Figure size 720x432 with 1 Axes>"
      ]
     },
     "metadata": {
      "needs_background": "light"
     },
     "output_type": "display_data"
    }
   ],
   "source": [
    "# original price with selling price\n",
    "\n",
    "plt.figure(figsize=(10, 6))\n",
    "sns.scatterplot(x='original_price', y='selling_price', data=df)\n",
    "plt.title('Original Price vs Selling Price')\n",
    "plt.xlabel('Original Price')\n",
    "plt.ylabel('Selling Price')\n",
    "plt.show()"
   ]
  },
  {
   "cell_type": "code",
   "execution_count": 10,
   "id": "37d59080",
   "metadata": {},
   "outputs": [
    {
     "name": "stdout",
     "output_type": "stream",
     "text": [
      "Original Price\n",
      "Mean:  69.00844390832329\n",
      "Median:  65.0\n",
      "Selling Price\n",
      "Mean:  52.91194209891435\n",
      "Median:  48.0\n"
     ]
    }
   ],
   "source": [
    "# mean, median price of original price and selling price\n",
    "print('Original Price')\n",
    "print('Mean: ', df['original_price'].mean())\n",
    "print('Median: ', df['original_price'].median())\n",
    "print('Selling Price')\n",
    "print('Mean: ', df['selling_price'].mean())\n",
    "print('Median: ', df['selling_price'].median())"
   ]
  },
  {
   "cell_type": "code",
   "execution_count": 11,
   "id": "68022906",
   "metadata": {},
   "outputs": [
    {
     "name": "stdout",
     "output_type": "stream",
     "text": [
      "Original Price\n",
      "0.05     25.0\n",
      "0.95    150.0\n",
      "Name: original_price, dtype: float64\n",
      "Selling Price\n",
      "0.05     18.0\n",
      "0.95    105.0\n",
      "Name: selling_price, dtype: float64\n"
     ]
    }
   ],
   "source": [
    "# percentiles of original price and selling price\n",
    "print('Original Price')\n",
    "print(df['original_price'].quantile([0.05, 0.95]))\n",
    "print('Selling Price')\n",
    "print(df['selling_price'].quantile([0.05, 0.95]))"
   ]
  },
  {
   "cell_type": "code",
   "execution_count": 12,
   "id": "8c33b472",
   "metadata": {},
   "outputs": [
    {
     "name": "stdout",
     "output_type": "stream",
     "text": [
      "category\n",
      "Shoes          21.689573\n",
      "Clothing       10.597561\n",
      "Accessories     9.050633\n",
      "dtype: float64\n",
      "category\n",
      "Shoes          76.056817\n",
      "Clothing       78.518015\n",
      "Accessories    74.455163\n",
      "dtype: float64\n"
     ]
    }
   ],
   "source": [
    "# According to category, how much does selling_price decrease from original_price on average\n",
    "print(df.groupby('category')['original_price'].mean().sort_values(ascending=False) \n",
    "      -\n",
    "      df.groupby('category')['selling_price'].mean().sort_values(ascending=False))\n",
    "\n",
    "\n",
    "# According to category, what percentage selling_price decreases from original_price\n",
    "print(df.groupby('category')['selling_price'].mean().sort_values(ascending=False) \n",
    "    / \n",
    "df.groupby('category')['original_price'].mean().sort_values(ascending=False) * 100)\n"
   ]
  },
  {
   "cell_type": "code",
   "execution_count": 13,
   "id": "50487a0f",
   "metadata": {},
   "outputs": [
    {
     "name": "stdout",
     "output_type": "stream",
     "text": [
      "Number of 0 values in original_price:  0\n",
      "Number of 0 values in selling_price:  0\n"
     ]
    }
   ],
   "source": [
    "# check <=0 values in original_price and selling_price\n",
    "print('Number of 0 values in original_price: ', (df['original_price'] <= 0).sum())\n",
    "print('Number of 0 values in selling_price: ', (df['selling_price'] <= 0).sum())"
   ]
  },
  {
   "cell_type": "markdown",
   "id": "bde03f70",
   "metadata": {},
   "source": [
    "\n",
    "* __Original price__\n",
    "    - Median price is 65\n",
    "    - Mean price is 69\n",
    "    - 95% of prices < 150\n",
    "* __Selling price__\n",
    "    - Median price is 48\n",
    "    - Mean is 53\n",
    "    - 95% of price < 105"
   ]
  },
  {
   "cell_type": "markdown",
   "id": "af1774e0",
   "metadata": {},
   "source": [
    "##### Availability (in stock)"
   ]
  },
  {
   "cell_type": "code",
   "execution_count": 14,
   "id": "6653d2a4",
   "metadata": {},
   "outputs": [
    {
     "data": {
      "image/png": "[encoded data removed]",
      "text/plain": [
       "<Figure size 720x432 with 1 Axes>"
      ]
     },
     "metadata": {
      "needs_background": "light"
     },
     "output_type": "display_data"
    }
   ],
   "source": [
    "# Create a boxplot plot to visualize the relationship between availability and selling_price\n",
    "plt.figure(figsize=(10, 6))\n",
    "sns.boxplot(x='availability', y='selling_price', data=df)\n",
    "plt.title('Availability vs Selling Price')\n",
    "plt.xlabel('Availability')\n",
    "plt.ylabel('Selling Price')\n",
    "plt.show()\n"
   ]
  },
  {
   "cell_type": "markdown",
   "id": "445a8ce5",
   "metadata": {},
   "source": [
    "* The median selling price for products that are 'InStock' appears to be lower than for those 'OutOfStock'.\n",
    "* The interquartile range (IQR), which represents the middle 50% of the prices, is wider for 'InStock' items, indicating more variability in the selling price for these items.\n",
    "\n",
    "This could be:\n",
    "* Items that are more in demand and less frequently avaibale can command higher prices.\n",
    "* Higher-priced items may sell less frequently and thus be more likely to go out of stock between restocking."
   ]
  },
  {
   "cell_type": "markdown",
   "id": "bf573613",
   "metadata": {},
   "source": [
    "##### Category"
   ]
  },
  {
   "cell_type": "code",
   "execution_count": 15,
   "id": "cd3d77d2",
   "metadata": {},
   "outputs": [
    {
     "data": {
      "image/png": "[encoded data removed]",
      "text/plain": [
       "<Figure size 864x432 with 1 Axes>"
      ]
     },
     "metadata": {
      "needs_background": "light"
     },
     "output_type": "display_data"
    }
   ],
   "source": [
    "plt.figure(figsize=(12, 6))\n",
    "sns.countplot(x='category', data=df)\n",
    "plt.title('Count of Selling Price in Each Category')\n",
    "plt.xlabel('Category')\n",
    "plt.ylabel('Count')\n",
    "plt.xticks(rotation=45)\n",
    "plt.show()\n"
   ]
  },
  {
   "cell_type": "code",
   "execution_count": 16,
   "id": "2dffafcd",
   "metadata": {},
   "outputs": [
    {
     "data": {
      "image/png": "[encoded data removed]",
      "text/plain": [
       "<Figure size 864x432 with 1 Axes>"
      ]
     },
     "metadata": {
      "needs_background": "light"
     },
     "output_type": "display_data"
    }
   ],
   "source": [
    "import seaborn as sns\n",
    "import matplotlib.pyplot as plt\n",
    "\n",
    "plt.figure(figsize=(12, 6))\n",
    "sns.boxplot(x='category', y='selling_price', data=df)\n",
    "plt.title('Median Price of Each Category')\n",
    "plt.xlabel('Category')\n",
    "plt.ylabel('Selling Price')\n",
    "plt.xticks(rotation=45)\n",
    "plt.show()\n"
   ]
  },
  {
   "cell_type": "markdown",
   "id": "5f567f17",
   "metadata": {},
   "source": [
    "* Median selling prices for Shoes are higher than other 2 categories\n",
    "* Accessories prices are lower than Clothing but not big, they are in close range"
   ]
  },
  {
   "cell_type": "code",
   "execution_count": 17,
   "id": "2b6f8897",
   "metadata": {},
   "outputs": [
    {
     "data": {
      "image/png": "[encoded data removed]",
      "text/plain": [
       "<Figure size 864x432 with 1 Axes>"
      ]
     },
     "metadata": {
      "needs_background": "light"
     },
     "output_type": "display_data"
    }
   ],
   "source": [
    "plt.figure(figsize=(12, 6))\n",
    "sns.countplot(x='breadcrumbs', data=df, order=df['breadcrumbs'].value_counts().index)\n",
    "plt.title('Count of Selling Price in Each Breadcrumbs')\n",
    "plt.xlabel('Category')\n",
    "plt.ylabel('Count')\n",
    "plt.xticks(rotation=45)\n",
    "plt.show()"
   ]
  },
  {
   "cell_type": "markdown",
   "id": "048ae4e1",
   "metadata": {},
   "source": [
    "* Women/Clothing, Women/Shoes, Men/Shoes, Men/Clothing are top 4 most popular product, and the number of sales are much higher than others"
   ]
  },
  {
   "cell_type": "code",
   "execution_count": 18,
   "id": "9ae7f96d",
   "metadata": {},
   "outputs": [],
   "source": [
    "# reamin only top 10 breadcrumbs\n",
    "df = df[df['breadcrumbs'].isin(df['breadcrumbs'].value_counts().head(10).index)]"
   ]
  },
  {
   "cell_type": "code",
   "execution_count": 19,
   "id": "45038f1b",
   "metadata": {},
   "outputs": [
    {
     "name": "stdout",
     "output_type": "stream",
     "text": [
      "Index(['name', 'selling_price', 'original_price', 'availability', 'color',\n",
      "       'category', 'breadcrumbs', 'description', 'average_rating',\n",
      "       'reviews_count'],\n",
      "      dtype='object')\n"
     ]
    }
   ],
   "source": [
    "print(df.columns)"
   ]
  },
  {
   "cell_type": "markdown",
   "id": "465d6761",
   "metadata": {},
   "source": [
    "#### Data cleaning"
   ]
  },
  {
   "cell_type": "markdown",
   "id": "92620118",
   "metadata": {},
   "source": [
    "##### Clean name"
   ]
  },
  {
   "cell_type": "code",
   "execution_count": 20,
   "id": "408cbaa7",
   "metadata": {},
   "outputs": [],
   "source": [
    "import re\n",
    "from sklearn.feature_extraction.text import CountVectorizer\n",
    "\n",
    "def clean_text(text):\n",
    "    text = text.lower()\n",
    "    text = re.sub(r'\\d+', '', text)\n",
    "    text = re.sub(r'[^a-zA-Z0-9\\s]', '', text)\n",
    "    return text\n",
    "\n",
    "df['clean_name'] = df['name'].apply(clean_text)\n"
   ]
  },
  {
   "cell_type": "markdown",
   "id": "8db3af6e",
   "metadata": {},
   "source": [
    "##### Clean breadcrumbs"
   ]
  },
  {
   "cell_type": "code",
   "execution_count": 21,
   "id": "c290fda0",
   "metadata": {},
   "outputs": [],
   "source": [
    "def clean_breadcrumbs(breadcrumbs):\n",
    "    if isinstance(breadcrumbs, float):\n",
    "        return ''\n",
    "    cleaned_breadcrumbs = breadcrumbs.split('/')\n",
    "    cleaned_breadcrumbs = ' '.join(cleaned_breadcrumbs)\n",
    "    return cleaned_breadcrumbs\n",
    "\n",
    "df['breadcrumbs_clean'] = df['breadcrumbs'].apply(clean_breadcrumbs)\n",
    "\n",
    "#df.head()"
   ]
  },
  {
   "cell_type": "markdown",
   "id": "83530138",
   "metadata": {},
   "source": [
    "##### Clean description"
   ]
  },
  {
   "cell_type": "code",
   "execution_count": 22,
   "id": "c49969cd",
   "metadata": {},
   "outputs": [
    {
     "name": "stderr",
     "output_type": "stream",
     "text": [
      "[nltk_data] Downloading package punkt to\n",
      "[nltk_data]     C:\\Users\\xiaob\\AppData\\Roaming\\nltk_data...\n",
      "[nltk_data]   Package punkt is already up-to-date!\n",
      "[nltk_data] Downloading package stopwords to\n",
      "[nltk_data]     C:\\Users\\xiaob\\AppData\\Roaming\\nltk_data...\n",
      "[nltk_data]   Package stopwords is already up-to-date!\n"
     ]
    }
   ],
   "source": [
    "import nltk\n",
    "from nltk.corpus import stopwords\n",
    "from nltk.stem import PorterStemmer\n",
    "from nltk.tokenize import word_tokenize\n",
    "import string\n",
    "\n",
    "nltk.download('punkt')\n",
    "nltk.download('stopwords')\n",
    "\n",
    "def preprocess_description(description):\n",
    "    # Convert to lowercase\n",
    "    if isinstance(description, float):\n",
    "        description = str(description)\n",
    "    description = description.lower()\n",
    "    \n",
    "    # Remove punctuation\n",
    "    description = description.translate(str.maketrans('', '', string.punctuation))\n",
    "    \n",
    "    # Tokenize\n",
    "    tokens = word_tokenize(description)\n",
    "    \n",
    "    # Remove stopwords\n",
    "    stop_words = set(stopwords.words('english'))\n",
    "    tokens = [i for i in tokens if not i in stop_words]\n",
    "    \n",
    "    # Stemming\n",
    "    stemmer= PorterStemmer()\n",
    "    tokens = [stemmer.stem(word) for word in tokens]\n",
    "    \n",
    "    return ' '.join(tokens)\n",
    "\n",
    "df['description_clean'] = df['description'].apply(preprocess_description)\n",
    "\n",
    "#df.head()"
   ]
  },
  {
   "cell_type": "code",
   "execution_count": 23,
   "id": "4fefeb75",
   "metadata": {},
   "outputs": [
    {
     "data": {
      "text/html": [
       "<div>\n",
       "<style scoped>\n",
       "    .dataframe tbody tr th:only-of-type {\n",
       "        vertical-align: middle;\n",
       "    }\n",
       "\n",
       "    .dataframe tbody tr th {\n",
       "        vertical-align: top;\n",
       "    }\n",
       "\n",
       "    .dataframe thead th {\n",
       "        text-align: right;\n",
       "    }\n",
       "</style>\n",
       "<table border=\"1\" class=\"dataframe\">\n",
       "  <thead>\n",
       "    <tr style=\"text-align: right;\">\n",
       "      <th></th>\n",
       "      <th>name</th>\n",
       "      <th>selling_price</th>\n",
       "      <th>original_price</th>\n",
       "      <th>availability</th>\n",
       "      <th>color</th>\n",
       "      <th>category</th>\n",
       "      <th>breadcrumbs</th>\n",
       "      <th>description</th>\n",
       "      <th>average_rating</th>\n",
       "      <th>reviews_count</th>\n",
       "      <th>clean_name</th>\n",
       "      <th>breadcrumbs_clean</th>\n",
       "      <th>description_clean</th>\n",
       "    </tr>\n",
       "  </thead>\n",
       "  <tbody>\n",
       "    <tr>\n",
       "      <th>15</th>\n",
       "      <td>Essentials Loose Logo Tank Top</td>\n",
       "      <td>20</td>\n",
       "      <td>25</td>\n",
       "      <td>InStock</td>\n",
       "      <td>Purple</td>\n",
       "      <td>Clothing</td>\n",
       "      <td>Women/Clothing</td>\n",
       "      <td>What's on the agenda? Whether it's a quick lun...</td>\n",
       "      <td>4.8</td>\n",
       "      <td>116</td>\n",
       "      <td>essentials loose logo tank top</td>\n",
       "      <td>Women Clothing</td>\n",
       "      <td>what agenda whether quick lunch hour workout c...</td>\n",
       "    </tr>\n",
       "    <tr>\n",
       "      <th>16</th>\n",
       "      <td>Essentials Loose Logo Tank Top</td>\n",
       "      <td>20</td>\n",
       "      <td>25</td>\n",
       "      <td>InStock</td>\n",
       "      <td>Pink</td>\n",
       "      <td>Clothing</td>\n",
       "      <td>Women/Clothing</td>\n",
       "      <td>What's on the agenda? Whether it's a quick lun...</td>\n",
       "      <td>4.8</td>\n",
       "      <td>116</td>\n",
       "      <td>essentials loose logo tank top</td>\n",
       "      <td>Women Clothing</td>\n",
       "      <td>what agenda whether quick lunch hour workout c...</td>\n",
       "    </tr>\n",
       "    <tr>\n",
       "      <th>18</th>\n",
       "      <td>Essentials Loose Logo Tank Top</td>\n",
       "      <td>20</td>\n",
       "      <td>25</td>\n",
       "      <td>InStock</td>\n",
       "      <td>Green</td>\n",
       "      <td>Clothing</td>\n",
       "      <td>Women/Clothing</td>\n",
       "      <td>What's on the agenda? Whether it's a quick lun...</td>\n",
       "      <td>4.8</td>\n",
       "      <td>116</td>\n",
       "      <td>essentials loose logo tank top</td>\n",
       "      <td>Women Clothing</td>\n",
       "      <td>what agenda whether quick lunch hour workout c...</td>\n",
       "    </tr>\n",
       "    <tr>\n",
       "      <th>19</th>\n",
       "      <td>Formotion Sculpt Tights</td>\n",
       "      <td>48</td>\n",
       "      <td>80</td>\n",
       "      <td>InStock</td>\n",
       "      <td>Blue</td>\n",
       "      <td>Clothing</td>\n",
       "      <td>Women/Clothing</td>\n",
       "      <td>Sometimes confidence comes in a surprising for...</td>\n",
       "      <td>4.2</td>\n",
       "      <td>144</td>\n",
       "      <td>formotion sculpt tights</td>\n",
       "      <td>Women Clothing</td>\n",
       "      <td>sometim confid come surpris form adida tight u...</td>\n",
       "    </tr>\n",
       "    <tr>\n",
       "      <th>21</th>\n",
       "      <td>Pureboost 21 Shoes</td>\n",
       "      <td>91</td>\n",
       "      <td>130</td>\n",
       "      <td>InStock</td>\n",
       "      <td>Purple</td>\n",
       "      <td>Shoes</td>\n",
       "      <td>Women/Shoes</td>\n",
       "      <td>For quick morning miles and more. These adidas...</td>\n",
       "      <td>4.5</td>\n",
       "      <td>63</td>\n",
       "      <td>pureboost  shoes</td>\n",
       "      <td>Women Shoes</td>\n",
       "      <td>quick morn mile adida pureboost perform run sh...</td>\n",
       "    </tr>\n",
       "  </tbody>\n",
       "</table>\n",
       "</div>"
      ],
      "text/plain": [
       "                              name  selling_price  original_price  \\\n",
       "15  Essentials Loose Logo Tank Top             20              25   \n",
       "16  Essentials Loose Logo Tank Top             20              25   \n",
       "18  Essentials Loose Logo Tank Top             20              25   \n",
       "19         Formotion Sculpt Tights             48              80   \n",
       "21              Pureboost 21 Shoes             91             130   \n",
       "\n",
       "   availability   color  category     breadcrumbs  \\\n",
       "15      InStock  Purple  Clothing  Women/Clothing   \n",
       "16      InStock    Pink  Clothing  Women/Clothing   \n",
       "18      InStock   Green  Clothing  Women/Clothing   \n",
       "19      InStock    Blue  Clothing  Women/Clothing   \n",
       "21      InStock  Purple     Shoes     Women/Shoes   \n",
       "\n",
       "                                          description  average_rating  \\\n",
       "15  What's on the agenda? Whether it's a quick lun...             4.8   \n",
       "16  What's on the agenda? Whether it's a quick lun...             4.8   \n",
       "18  What's on the agenda? Whether it's a quick lun...             4.8   \n",
       "19  Sometimes confidence comes in a surprising for...             4.2   \n",
       "21  For quick morning miles and more. These adidas...             4.5   \n",
       "\n",
       "    reviews_count                      clean_name breadcrumbs_clean  \\\n",
       "15            116  essentials loose logo tank top    Women Clothing   \n",
       "16            116  essentials loose logo tank top    Women Clothing   \n",
       "18            116  essentials loose logo tank top    Women Clothing   \n",
       "19            144         formotion sculpt tights    Women Clothing   \n",
       "21             63                pureboost  shoes       Women Shoes   \n",
       "\n",
       "                                    description_clean  \n",
       "15  what agenda whether quick lunch hour workout c...  \n",
       "16  what agenda whether quick lunch hour workout c...  \n",
       "18  what agenda whether quick lunch hour workout c...  \n",
       "19  sometim confid come surpris form adida tight u...  \n",
       "21  quick morn mile adida pureboost perform run sh...  "
      ]
     },
     "execution_count": 23,
     "metadata": {},
     "output_type": "execute_result"
    }
   ],
   "source": [
    "df.head()"
   ]
  },
  {
   "cell_type": "code",
   "execution_count": 24,
   "id": "509c5981",
   "metadata": {},
   "outputs": [],
   "source": [
    "#Remove uncleaned columns\n",
    "df.drop(['name','breadcrumbs','description'], axis=1, inplace=True)"
   ]
  },
  {
   "cell_type": "code",
   "execution_count": 25,
   "id": "a5defd94",
   "metadata": {},
   "outputs": [
    {
     "data": {
      "text/html": [
       "<div>\n",
       "<style scoped>\n",
       "    .dataframe tbody tr th:only-of-type {\n",
       "        vertical-align: middle;\n",
       "    }\n",
       "\n",
       "    .dataframe tbody tr th {\n",
       "        vertical-align: top;\n",
       "    }\n",
       "\n",
       "    .dataframe thead th {\n",
       "        text-align: right;\n",
       "    }\n",
       "</style>\n",
       "<table border=\"1\" class=\"dataframe\">\n",
       "  <thead>\n",
       "    <tr style=\"text-align: right;\">\n",
       "      <th></th>\n",
       "      <th>selling_price</th>\n",
       "      <th>original_price</th>\n",
       "      <th>availability</th>\n",
       "      <th>color</th>\n",
       "      <th>category</th>\n",
       "      <th>average_rating</th>\n",
       "      <th>reviews_count</th>\n",
       "      <th>clean_name</th>\n",
       "      <th>breadcrumbs_clean</th>\n",
       "      <th>description_clean</th>\n",
       "    </tr>\n",
       "  </thead>\n",
       "  <tbody>\n",
       "    <tr>\n",
       "      <th>15</th>\n",
       "      <td>20</td>\n",
       "      <td>25</td>\n",
       "      <td>InStock</td>\n",
       "      <td>Purple</td>\n",
       "      <td>Clothing</td>\n",
       "      <td>4.8</td>\n",
       "      <td>116</td>\n",
       "      <td>essentials loose logo tank top</td>\n",
       "      <td>Women Clothing</td>\n",
       "      <td>what agenda whether quick lunch hour workout c...</td>\n",
       "    </tr>\n",
       "    <tr>\n",
       "      <th>16</th>\n",
       "      <td>20</td>\n",
       "      <td>25</td>\n",
       "      <td>InStock</td>\n",
       "      <td>Pink</td>\n",
       "      <td>Clothing</td>\n",
       "      <td>4.8</td>\n",
       "      <td>116</td>\n",
       "      <td>essentials loose logo tank top</td>\n",
       "      <td>Women Clothing</td>\n",
       "      <td>what agenda whether quick lunch hour workout c...</td>\n",
       "    </tr>\n",
       "    <tr>\n",
       "      <th>18</th>\n",
       "      <td>20</td>\n",
       "      <td>25</td>\n",
       "      <td>InStock</td>\n",
       "      <td>Green</td>\n",
       "      <td>Clothing</td>\n",
       "      <td>4.8</td>\n",
       "      <td>116</td>\n",
       "      <td>essentials loose logo tank top</td>\n",
       "      <td>Women Clothing</td>\n",
       "      <td>what agenda whether quick lunch hour workout c...</td>\n",
       "    </tr>\n",
       "    <tr>\n",
       "      <th>19</th>\n",
       "      <td>48</td>\n",
       "      <td>80</td>\n",
       "      <td>InStock</td>\n",
       "      <td>Blue</td>\n",
       "      <td>Clothing</td>\n",
       "      <td>4.2</td>\n",
       "      <td>144</td>\n",
       "      <td>formotion sculpt tights</td>\n",
       "      <td>Women Clothing</td>\n",
       "      <td>sometim confid come surpris form adida tight u...</td>\n",
       "    </tr>\n",
       "    <tr>\n",
       "      <th>21</th>\n",
       "      <td>91</td>\n",
       "      <td>130</td>\n",
       "      <td>InStock</td>\n",
       "      <td>Purple</td>\n",
       "      <td>Shoes</td>\n",
       "      <td>4.5</td>\n",
       "      <td>63</td>\n",
       "      <td>pureboost  shoes</td>\n",
       "      <td>Women Shoes</td>\n",
       "      <td>quick morn mile adida pureboost perform run sh...</td>\n",
       "    </tr>\n",
       "  </tbody>\n",
       "</table>\n",
       "</div>"
      ],
      "text/plain": [
       "    selling_price  original_price availability   color  category  \\\n",
       "15             20              25      InStock  Purple  Clothing   \n",
       "16             20              25      InStock    Pink  Clothing   \n",
       "18             20              25      InStock   Green  Clothing   \n",
       "19             48              80      InStock    Blue  Clothing   \n",
       "21             91             130      InStock  Purple     Shoes   \n",
       "\n",
       "    average_rating  reviews_count                      clean_name  \\\n",
       "15             4.8            116  essentials loose logo tank top   \n",
       "16             4.8            116  essentials loose logo tank top   \n",
       "18             4.8            116  essentials loose logo tank top   \n",
       "19             4.2            144         formotion sculpt tights   \n",
       "21             4.5             63                pureboost  shoes   \n",
       "\n",
       "   breadcrumbs_clean                                  description_clean  \n",
       "15    Women Clothing  what agenda whether quick lunch hour workout c...  \n",
       "16    Women Clothing  what agenda whether quick lunch hour workout c...  \n",
       "18    Women Clothing  what agenda whether quick lunch hour workout c...  \n",
       "19    Women Clothing  sometim confid come surpris form adida tight u...  \n",
       "21       Women Shoes  quick morn mile adida pureboost perform run sh...  "
      ]
     },
     "execution_count": 25,
     "metadata": {},
     "output_type": "execute_result"
    }
   ],
   "source": [
    "df.head()"
   ]
  },
  {
   "cell_type": "markdown",
   "id": "783a5ca2",
   "metadata": {},
   "source": [
    "#### Train & Test Data"
   ]
  },
  {
   "cell_type": "code",
   "execution_count": 26,
   "id": "9426617c",
   "metadata": {},
   "outputs": [
    {
     "name": "stdout",
     "output_type": "stream",
     "text": [
      "Shape of X_train: (629, 9)\n",
      "Shape of X_test: (158, 9)\n",
      "Shape of y_train: (629,)\n",
      "Shape of y_test: (158,)\n"
     ]
    }
   ],
   "source": [
    "from sklearn.model_selection import train_test_split\n",
    "\n",
    "# Split the dataset into features (X) and target variable (y)\n",
    "X = df.drop('selling_price', axis=1)\n",
    "y = df['selling_price']\n",
    "\n",
    "# Split the dataset into training and testing sets\n",
    "X_train, X_test, y_train, y_test = train_test_split(X, y, test_size=0.2, random_state=42)\n",
    "\n",
    "print(\"Shape of X_train:\", X_train.shape)\n",
    "print(\"Shape of X_test:\", X_test.shape)\n",
    "print(\"Shape of y_train:\", y_train.shape)\n",
    "print(\"Shape of y_test:\", y_test.shape)\n"
   ]
  },
  {
   "cell_type": "code",
   "execution_count": 27,
   "id": "eba4acb1",
   "metadata": {},
   "outputs": [
    {
     "data": {
      "text/html": [
       "<div>\n",
       "<style scoped>\n",
       "    .dataframe tbody tr th:only-of-type {\n",
       "        vertical-align: middle;\n",
       "    }\n",
       "\n",
       "    .dataframe tbody tr th {\n",
       "        vertical-align: top;\n",
       "    }\n",
       "\n",
       "    .dataframe thead th {\n",
       "        text-align: right;\n",
       "    }\n",
       "</style>\n",
       "<table border=\"1\" class=\"dataframe\">\n",
       "  <thead>\n",
       "    <tr style=\"text-align: right;\">\n",
       "      <th></th>\n",
       "      <th>original_price</th>\n",
       "      <th>availability</th>\n",
       "      <th>color</th>\n",
       "      <th>category</th>\n",
       "      <th>average_rating</th>\n",
       "      <th>reviews_count</th>\n",
       "      <th>clean_name</th>\n",
       "      <th>breadcrumbs_clean</th>\n",
       "      <th>description_clean</th>\n",
       "    </tr>\n",
       "  </thead>\n",
       "  <tbody>\n",
       "    <tr>\n",
       "      <th>231</th>\n",
       "      <td>40</td>\n",
       "      <td>InStock</td>\n",
       "      <td>Grey</td>\n",
       "      <td>Clothing</td>\n",
       "      <td>4.8</td>\n",
       "      <td>239</td>\n",
       "      <td>adicolor classics long sleeve tee</td>\n",
       "      <td>Women Clothing</td>\n",
       "      <td>alongsid rich histori 3stripe come love sport ...</td>\n",
       "    </tr>\n",
       "    <tr>\n",
       "      <th>153</th>\n",
       "      <td>45</td>\n",
       "      <td>InStock</td>\n",
       "      <td>Black</td>\n",
       "      <td>Shoes</td>\n",
       "      <td>4.4</td>\n",
       "      <td>207</td>\n",
       "      <td>adilette slides</td>\n",
       "      <td>Women Shoes</td>\n",
       "      <td>still wear adida slide cool weather add sock r...</td>\n",
       "    </tr>\n",
       "    <tr>\n",
       "      <th>800</th>\n",
       "      <td>50</td>\n",
       "      <td>InStock</td>\n",
       "      <td>Purple</td>\n",
       "      <td>Accessories</td>\n",
       "      <td>4.9</td>\n",
       "      <td>76</td>\n",
       "      <td>vfa backpack</td>\n",
       "      <td>Women Accessories</td>\n",
       "      <td>get readi morn feel like pack summer camp one ...</td>\n",
       "    </tr>\n",
       "    <tr>\n",
       "      <th>658</th>\n",
       "      <td>65</td>\n",
       "      <td>InStock</td>\n",
       "      <td>Purple</td>\n",
       "      <td>Clothing</td>\n",
       "      <td>4.6</td>\n",
       "      <td>14</td>\n",
       "      <td>adidas sportswear future icons hoodie</td>\n",
       "      <td>Women Clothing</td>\n",
       "      <td>put time put effort put adida sweatshirt worko...</td>\n",
       "    </tr>\n",
       "    <tr>\n",
       "      <th>74</th>\n",
       "      <td>110</td>\n",
       "      <td>InStock</td>\n",
       "      <td>Black</td>\n",
       "      <td>Shoes</td>\n",
       "      <td>5.0</td>\n",
       "      <td>1</td>\n",
       "      <td>zx k boost shoes</td>\n",
       "      <td>Men Shoes</td>\n",
       "      <td>zx line pioneer new approach speed rais bar co...</td>\n",
       "    </tr>\n",
       "  </tbody>\n",
       "</table>\n",
       "</div>"
      ],
      "text/plain": [
       "     original_price availability   color     category  average_rating  \\\n",
       "231              40      InStock    Grey     Clothing             4.8   \n",
       "153              45      InStock   Black        Shoes             4.4   \n",
       "800              50      InStock  Purple  Accessories             4.9   \n",
       "658              65      InStock  Purple     Clothing             4.6   \n",
       "74              110      InStock   Black        Shoes             5.0   \n",
       "\n",
       "     reviews_count                             clean_name  breadcrumbs_clean  \\\n",
       "231            239      adicolor classics long sleeve tee     Women Clothing   \n",
       "153            207                        adilette slides        Women Shoes   \n",
       "800             76                           vfa backpack  Women Accessories   \n",
       "658             14  adidas sportswear future icons hoodie     Women Clothing   \n",
       "74               1                       zx k boost shoes          Men Shoes   \n",
       "\n",
       "                                     description_clean  \n",
       "231  alongsid rich histori 3stripe come love sport ...  \n",
       "153  still wear adida slide cool weather add sock r...  \n",
       "800  get readi morn feel like pack summer camp one ...  \n",
       "658  put time put effort put adida sweatshirt worko...  \n",
       "74   zx line pioneer new approach speed rais bar co...  "
      ]
     },
     "execution_count": 27,
     "metadata": {},
     "output_type": "execute_result"
    }
   ],
   "source": [
    "X_train.head()"
   ]
  },
  {
   "cell_type": "markdown",
   "id": "20f24e03",
   "metadata": {},
   "source": [
    "##### BOW featurized text features with CountVectorizer"
   ]
  },
  {
   "cell_type": "code",
   "execution_count": 28,
   "id": "f7c60ef8",
   "metadata": {},
   "outputs": [
    {
     "name": "stdout",
     "output_type": "stream",
     "text": [
      "(629, 171)\n",
      "(158, 171)\n"
     ]
    }
   ],
   "source": [
    "from sklearn.feature_extraction.text import CountVectorizer\n",
    "# Import the necessary libraries\n",
    "# Create an instance of CountVectorizer\n",
    "vectorizer = CountVectorizer(min_df=3)\n",
    "\n",
    "# Fit the vectorizer on the training data\n",
    "X_train_name_bow = vectorizer.fit_transform(X_train['clean_name'])\n",
    "\n",
    "# Transform the test data using the fitted vectorizer\n",
    "X_test_name_bow = vectorizer.transform(X_test['clean_name'])\n",
    "\n",
    "print(X_train_name_bow.shape)\n",
    "print(X_test_name_bow.shape)\n"
   ]
  },
  {
   "cell_type": "code",
   "execution_count": 29,
   "id": "7412b177",
   "metadata": {},
   "outputs": [
    {
     "name": "stdout",
     "output_type": "stream",
     "text": [
      "(629, 12251)\n",
      "(158, 12251)\n"
     ]
    }
   ],
   "source": [
    "from sklearn.feature_extraction.text import CountVectorizer\n",
    "# Import the necessary libraries\n",
    "# Create an instance of CountVectorizer\n",
    "vectorizer = CountVectorizer(ngram_range=(1,2), max_features=20000)\n",
    "\n",
    "# Fit the vectorizer on the training data\n",
    "X_train_description_bow = vectorizer.fit_transform(X_train['description_clean'])\n",
    "\n",
    "# Transform the test data using the fitted vectorizer\n",
    "X_test_description_bow = vectorizer.transform(X_test['description_clean'])\n",
    "\n",
    "print(X_train_description_bow.shape)\n",
    "print(X_test_description_bow.shape)\n"
   ]
  },
  {
   "cell_type": "markdown",
   "id": "c5502eed",
   "metadata": {},
   "source": [
    "##### BOW featurized categorical features"
   ]
  },
  {
   "cell_type": "code",
   "execution_count": 30,
   "id": "04232e1f",
   "metadata": {},
   "outputs": [
    {
     "name": "stdout",
     "output_type": "stream",
     "text": [
      "(629, 2)\n",
      "(158, 2)\n"
     ]
    }
   ],
   "source": [
    "from sklearn.feature_extraction.text import CountVectorizer\n",
    "# Import the necessary libraries\n",
    "# Create an instance of CountVectorizer\n",
    "vectorizer = CountVectorizer()\n",
    "\n",
    "# Fit the vectorizer on the training data\n",
    "X_train_availability_bow = vectorizer.fit_transform(X_train['availability'])\n",
    "\n",
    "# Transform the test data using the fitted vectorizer\n",
    "X_test_availability_bow = vectorizer.transform(X_test['availability'])\n",
    "\n",
    "print(X_train_availability_bow.shape)\n",
    "print(X_test_availability_bow.shape)\n"
   ]
  },
  {
   "cell_type": "code",
   "execution_count": 31,
   "id": "ddba4774",
   "metadata": {},
   "outputs": [
    {
     "name": "stdout",
     "output_type": "stream",
     "text": [
      "(629, 12)\n",
      "(158, 12)\n"
     ]
    }
   ],
   "source": [
    "from sklearn.feature_extraction.text import CountVectorizer\n",
    "# Import the necessary libraries\n",
    "# Create an instance of CountVectorizer\n",
    "vectorizer = CountVectorizer(min_df=5)\n",
    "\n",
    "# Fit the vectorizer on the training data\n",
    "X_train_color_bow = vectorizer.fit_transform(X_train['color'])\n",
    "\n",
    "# Transform the test data using the fitted vectorizer\n",
    "X_test_color_bow = vectorizer.transform(X_test['color'])\n",
    "\n",
    "print(X_train_color_bow.shape)\n",
    "print(X_test_color_bow.shape)\n"
   ]
  },
  {
   "cell_type": "code",
   "execution_count": 32,
   "id": "652c5ac7",
   "metadata": {},
   "outputs": [
    {
     "name": "stdout",
     "output_type": "stream",
     "text": [
      "(629, 3)\n",
      "(158, 3)\n"
     ]
    }
   ],
   "source": [
    "from sklearn.feature_extraction.text import CountVectorizer\n",
    "# Import the necessary libraries\n",
    "# Create an instance of CountVectorizer\n",
    "vectorizer = CountVectorizer()\n",
    "\n",
    "# Fit the vectorizer on the training data\n",
    "X_train_category_bow = vectorizer.fit_transform(X_train['category'])\n",
    "\n",
    "# Transform the test data using the fitted vectorizer\n",
    "X_test_category_bow = vectorizer.transform(X_test['category'])\n",
    "\n",
    "print(X_train_category_bow.shape)\n",
    "print(X_test_category_bow.shape)\n"
   ]
  },
  {
   "cell_type": "code",
   "execution_count": 33,
   "id": "65cb67eb",
   "metadata": {},
   "outputs": [
    {
     "name": "stdout",
     "output_type": "stream",
     "text": [
      "(629, 8)\n",
      "(158, 8)\n"
     ]
    }
   ],
   "source": [
    "from sklearn.feature_extraction.text import CountVectorizer\n",
    "# Import the necessary libraries\n",
    "# Create an instance of CountVectorizer\n",
    "vectorizer = CountVectorizer()\n",
    "\n",
    "# Fit the vectorizer on the training data\n",
    "X_train_breadcrumbs_bow = vectorizer.fit_transform(X_train['breadcrumbs_clean'])\n",
    "\n",
    "# Transform the test data using the fitted vectorizer\n",
    "X_test_breadcrumbs_bow = vectorizer.transform(X_test['breadcrumbs_clean'])\n",
    "\n",
    "print(X_train_breadcrumbs_bow.shape)\n",
    "print(X_test_breadcrumbs_bow.shape)\n"
   ]
  },
  {
   "cell_type": "markdown",
   "id": "05c47e97",
   "metadata": {},
   "source": [
    "##### Numerical Features with MinMaxScaler\n",
    "* scales data in range [0,1]\n",
    "* in range [-1,1] if have negative values"
   ]
  },
  {
   "cell_type": "code",
   "execution_count": 34,
   "id": "9de727a6",
   "metadata": {},
   "outputs": [
    {
     "name": "stdout",
     "output_type": "stream",
     "text": [
      "(629, 1)\n",
      "(158, 1)\n",
      "(629, 1)\n",
      "(158, 1)\n",
      "(629, 1)\n",
      "(158, 1)\n"
     ]
    }
   ],
   "source": [
    "from sklearn.preprocessing import MinMaxScaler\n",
    "\n",
    "# Create an instance of MinMaxScaler\n",
    "scaler = MinMaxScaler()\n",
    "\n",
    "# Fit the scaler on the training data and transform the data\n",
    "X_train_original_price_scaled = scaler.fit_transform(X_train[['original_price']])\n",
    "X_test_original_price_scaled = scaler.transform(X_test[['original_price']])\n",
    "print(X_train_original_price_scaled.shape)\n",
    "print(X_test_original_price_scaled.shape)\n",
    "\n",
    "\n",
    "X_train_average_rating_scaled = scaler.fit_transform(X_train[['average_rating']])\n",
    "X_test_average_rating_scaled = scaler.transform(X_test[['average_rating']])\n",
    "print(X_train_average_rating_scaled.shape)\n",
    "print(X_test_average_rating_scaled.shape)\n",
    "\n",
    "X_train_reviews_count_scaled = scaler.fit_transform(X_train[['reviews_count']])\n",
    "X_test_reviews_count_scaled = scaler.transform(X_test[['reviews_count']])\n",
    "print(X_train_reviews_count_scaled.shape)\n",
    "print(X_test_reviews_count_scaled.shape)"
   ]
  },
  {
   "cell_type": "markdown",
   "id": "47c63eea",
   "metadata": {},
   "source": [
    "##### Target Variable"
   ]
  },
  {
   "cell_type": "code",
   "execution_count": 35,
   "id": "68e5cded",
   "metadata": {},
   "outputs": [],
   "source": [
    "#scaling target variable using log1p\n",
    "import numpy as np\n",
    "\n",
    "y_train = np.log1p(y_train)\n",
    "y_test = np.log1p(y_test)"
   ]
  },
  {
   "cell_type": "markdown",
   "id": "e08a4eb5",
   "metadata": {},
   "source": [
    "##### Hstack finial dataset"
   ]
  },
  {
   "cell_type": "code",
   "execution_count": 36,
   "id": "14f49714",
   "metadata": {},
   "outputs": [
    {
     "name": "stdout",
     "output_type": "stream",
     "text": [
      "(629, 12450)\n",
      "(158, 12450)\n"
     ]
    }
   ],
   "source": [
    "from scipy.sparse import hstack\n",
    "\n",
    "# horizontally stack sparse matrices\n",
    "X_tr_BOW = hstack((X_train_name_bow, X_train_description_bow, X_train_availability_bow, X_train_color_bow, X_train_category_bow, X_train_breadcrumbs_bow\n",
    "                   , X_train_original_price_scaled, X_train_average_rating_scaled, X_train_reviews_count_scaled))\n",
    "X_te_BOW = hstack((X_test_name_bow, X_test_description_bow, X_test_availability_bow, X_test_color_bow, X_test_category_bow, X_test_breadcrumbs_bow\n",
    "                   , X_test_original_price_scaled, X_test_average_rating_scaled, X_test_reviews_count_scaled))\n",
    "\n",
    "print(X_tr_BOW.shape)\n",
    "print(X_te_BOW.shape)"
   ]
  },
  {
   "cell_type": "markdown",
   "id": "3c0f6320",
   "metadata": {},
   "source": [
    "##### Linear Regression"
   ]
  },
  {
   "cell_type": "code",
   "execution_count": 37,
   "id": "594b75bb",
   "metadata": {},
   "outputs": [
    {
     "name": "stdout",
     "output_type": "stream",
     "text": [
      "RMSLE on the train data: 0.022246486201472668\n",
      "RMSLE on the test data: 0.2403130195760311\n"
     ]
    }
   ],
   "source": [
    "from sklearn.linear_model import LinearRegression\n",
    "from sklearn.metrics import mean_squared_error\n",
    "\n",
    "# Create an instance of LinearRegression\n",
    "model = LinearRegression()\n",
    "\n",
    "# Fit the model on the training data\n",
    "model.fit(X_tr_BOW, y_train)\n",
    "\n",
    "\n",
    "# Make predictions on the training data\n",
    "train_predictions = model.predict(X_tr_BOW)\n",
    "\n",
    "# Make predictions on the test data\n",
    "test_predictions = model.predict(X_te_BOW)\n",
    "\n",
    "# Calculate RMSLE on the train data\n",
    "train_rmsle = np.sqrt(mean_squared_error(y_train, train_predictions))\n",
    "\n",
    "# Calculate RMSLE on the test data\n",
    "test_rmsle = np.sqrt(mean_squared_error(y_test, test_predictions))\n",
    "\n",
    "print('RMSLE on the train data:', train_rmsle)\n",
    "print('RMSLE on the test data:', test_rmsle)\n"
   ]
  },
  {
   "cell_type": "markdown",
   "id": "4a65fb28",
   "metadata": {},
   "source": [
    "##### Ridge Regression"
   ]
  },
  {
   "cell_type": "code",
   "execution_count": 38,
   "id": "12e85c96",
   "metadata": {},
   "outputs": [
    {
     "name": "stdout",
     "output_type": "stream",
     "text": [
      "RMSLE on the train data (Ridge regression): 0.024623897906659278\n",
      "RMSLE on the test data (Ridge regression): 0.23043100145665868\n"
     ]
    }
   ],
   "source": [
    "from sklearn.linear_model import Ridge\n",
    "\n",
    "# Create an instance of Ridge regression\n",
    "ridge_model = Ridge(alpha=1.0)\n",
    "\n",
    "# Fit the model on the training data\n",
    "ridge_model.fit(X_tr_BOW, y_train)\n",
    "\n",
    "# Make predictions on the training data\n",
    "train_predictions_ridge = ridge_model.predict(X_tr_BOW)\n",
    "\n",
    "# Make predictions on the test data\n",
    "test_predictions_ridge = ridge_model.predict(X_te_BOW)\n",
    "\n",
    "# Calculate RMSLE on the train data\n",
    "train_rmsle_ridge = np.sqrt(mean_squared_error(y_train, train_predictions_ridge))\n",
    "\n",
    "# Calculate RMSLE on the test data\n",
    "test_rmsle_ridge = np.sqrt(mean_squared_error(y_test, test_predictions_ridge))\n",
    "\n",
    "print('RMSLE on the train data (Ridge regression):', train_rmsle_ridge)\n",
    "print('RMSLE on the test data (Ridge regression):', test_rmsle_ridge)"
   ]
  },
  {
   "cell_type": "code",
   "execution_count": 39,
   "id": "a5dce7c0",
   "metadata": {},
   "outputs": [
    {
     "name": "stdout",
     "output_type": "stream",
     "text": [
      "RMSLE on the train data (Ridge regression with high alpha): 0.046527920390621307\n",
      "RMSLE on the test data (Ridge regression with high alpha): 0.23457750509103387\n"
     ]
    }
   ],
   "source": [
    "from sklearn.linear_model import Ridge\n",
    "\n",
    "# Create an instance of Ridge regression with a higher alpha value\n",
    "ridge_model_high_alpha = Ridge(alpha=10.0)\n",
    "\n",
    "# Fit the model on the training data\n",
    "ridge_model_high_alpha.fit(X_tr_BOW, y_train)\n",
    "\n",
    "# Make predictions on the training data\n",
    "train_predictions_ridge_high_alpha = ridge_model_high_alpha.predict(X_tr_BOW)\n",
    "\n",
    "# Make predictions on the test data\n",
    "test_predictions_ridge_high_alpha = ridge_model_high_alpha.predict(X_te_BOW)\n",
    "\n",
    "# Calculate RMSLE on the train data\n",
    "train_rmsle_ridge_high_alpha = np.sqrt(mean_squared_error(y_train, train_predictions_ridge_high_alpha))\n",
    "\n",
    "# Calculate RMSLE on the test data\n",
    "test_rmsle_ridge_high_alpha = np.sqrt(mean_squared_error(y_test, test_predictions_ridge_high_alpha))\n",
    "\n",
    "print('RMSLE on the train data (Ridge regression with high alpha):', train_rmsle_ridge_high_alpha)\n",
    "print('RMSLE on the test data (Ridge regression with high alpha):', test_rmsle_ridge_high_alpha)\n"
   ]
  },
  {
   "cell_type": "markdown",
   "id": "2b25ae20",
   "metadata": {},
   "source": [
    "##### XGBoost"
   ]
  },
  {
   "cell_type": "code",
   "execution_count": 40,
   "id": "11ab4ae3",
   "metadata": {},
   "outputs": [],
   "source": [
    "#!pip install xgboost\n"
   ]
  },
  {
   "cell_type": "code",
   "execution_count": 41,
   "id": "d4b86aaf",
   "metadata": {},
   "outputs": [
    {
     "name": "stdout",
     "output_type": "stream",
     "text": [
      "RMSLE on the train data (XGBRegressor): 0.015468691233568022\n",
      "RMSLE on the test data (XGBRegressor): 0.09186476606638927\n"
     ]
    }
   ],
   "source": [
    "from xgboost import XGBRegressor\n",
    "from sklearn.metrics import mean_squared_error\n",
    "\n",
    "# Create an instance of XGBRegressor\n",
    "xgb_model = XGBRegressor()\n",
    "\n",
    "# Fit the model on the training data\n",
    "xgb_model.fit(X_tr_BOW, y_train)\n",
    "\n",
    "# Make predictions on the training data\n",
    "train_predictions_xgb = xgb_model.predict(X_tr_BOW)\n",
    "\n",
    "# Make predictions on the test data\n",
    "test_predictions_xgb = xgb_model.predict(X_te_BOW)\n",
    "\n",
    "# Calculate RMSLE on the train data\n",
    "train_rmsle_xgb = np.sqrt(mean_squared_error(y_train, train_predictions_xgb))\n",
    "\n",
    "# Calculate RMSLE on the test data\n",
    "test_rmsle_xgb = np.sqrt(mean_squared_error(y_test, test_predictions_xgb))\n",
    "\n",
    "print('RMSLE on the train data (XGBRegressor):', train_rmsle_xgb)\n",
    "print('RMSLE on the test data (XGBRegressor):', test_rmsle_xgb)\n"
   ]
  },
  {
   "cell_type": "markdown",
   "id": "bf3d1bf5",
   "metadata": {},
   "source": [
    "##### Random Forest\n",
    "\n",
    "* Since this dataset perform much better on non-linear relationships, i will try random forest and SVM"
   ]
  },
  {
   "cell_type": "code",
   "execution_count": 42,
   "id": "2c1b7263",
   "metadata": {},
   "outputs": [],
   "source": [
    "# from sklearn.model_selection import RandomizedSearchCV\n",
    "# from sklearn.ensemble import RandomForestRegressor\n",
    "\n",
    "# # Define the parameter grid\n",
    "# param_grid = {\n",
    "#     'n_estimators': [100, 200, 300],\n",
    "#     'max_depth': [None, 5, 10],\n",
    "#     'min_samples_split': [2, 5, 10],\n",
    "#     'min_samples_leaf': [1, 2, 4],\n",
    "#     'max_features': ['auto', 'sqrt'],\n",
    "#     'bootstrap': [True, False]\n",
    "# }\n",
    "\n",
    "# # Create an instance of the random forest regressor\n",
    "# rf_model = RandomForestRegressor()\n",
    "\n",
    "# # Create an instance of RandomizedSearchCV\n",
    "# random_search = RandomizedSearchCV(estimator=rf_model, param_distributions=param_grid, n_iter=10, cv=5, random_state=42)\n",
    "\n",
    "# # Fit the random search on the training data\n",
    "# random_search.fit(X_tr_BOW, y_train)\n",
    "\n",
    "# # Print the best parameters found\n",
    "# print(\"Best parameters:\", random_search.best_params_)\n",
    "\n",
    "# # Print the best score found\n",
    "# print(\"Best score:\", random_search.best_score_)\n"
   ]
  },
  {
   "cell_type": "code",
   "execution_count": 43,
   "id": "7fe51bd9",
   "metadata": {},
   "outputs": [],
   "source": [
    "# from sklearn.ensemble import RandomForestRegressor\n",
    "# from sklearn.metrics import mean_squared_error\n",
    "\n",
    "# # Create an instance of RandomForestRegressor with the best parameters\n",
    "# rf_model = RandomForestRegressor(n_estimators=random_search.best_params_['n_estimators'], max_depth=random_search.best_params_['max_depth'], \n",
    "#                                  min_samples_split=random_search.best_params_['min_samples_split'],\n",
    "#                                  min_samples_leaf=random_search.best_params_['min_samples_leaf'],\n",
    "#                                  max_features='auto', bootstrap=True)\n",
    "\n",
    "# # Fit the model on the training data\n",
    "# rf_model.fit(X_tr_BOW, y_train)\n",
    "\n",
    "# # Make predictions on the training data\n",
    "# train_predictions_rf = rf_model.predict(X_tr_BOW)\n",
    "\n",
    "# # Make predictions on the test data\n",
    "# test_predictions_rf = rf_model.predict(X_te_BOW)\n",
    "\n",
    "# # Calculate RMSLE on the train data\n",
    "# train_rmsle_rf = np.sqrt(mean_squared_error(y_train, train_predictions_rf))\n",
    "\n",
    "# # Calculate RMSLE on the test data\n",
    "# test_rmsle_rf = np.sqrt(mean_squared_error(y_test, test_predictions_rf))\n",
    "\n",
    "# print('RMSLE on the train data (Random Forest):', train_rmsle_rf)\n",
    "# print('RMSLE on the test data (Random Forest):', test_rmsle_rf)\n"
   ]
  },
  {
   "cell_type": "markdown",
   "id": "6c4f9f35",
   "metadata": {},
   "source": [
    "## Conclusion"
   ]
  },
  {
   "cell_type": "markdown",
   "id": "67177f50",
   "metadata": {},
   "source": [
    "1. Big overfitting in Linear and Ridge Regression\n",
    "\n",
    "        Linear and ridge regression are relatively simple linear models. Even ridge regression includes regularization to prevent overfitting.\n",
    "\n",
    "2. Non-linear relationship between features and target\n",
    "\n",
    "        Linear models cannot capture non-linear relationships, leading to poor generalization on testset\n",
    "\n",
    "3. Small dataset\n",
    "\n",
    "        629 on training and 158 on testing are too small, need more data to prevent overfitting."
   ]
  },
  {
   "cell_type": "markdown",
   "id": "9dddd3d4",
   "metadata": {},
   "source": [
    "## Future Work:"
   ]
  },
  {
   "cell_type": "markdown",
   "id": "6683c633",
   "metadata": {},
   "source": [
    "\n",
    "\n",
    "1. Write automated crawler scripts to crawl larger data sets from various retail second-hand websites\n",
    "\n",
    "2. Try complex model ensmbles\n",
    "\n",
    "3. After getting enough data try linear models again to see if small dataset is the problem of overfitting\n",
    "\n",
    "4. Try Deep learning models lke LSTM"
   ]
  }
 ],
 "metadata": {
  "kernelspec": {
   "display_name": "Python 3 (ipykernel)",
   "language": "python",
   "name": "python3"
  },
  "language_info": {
   "codemirror_mode": {
    "name": "ipython",
    "version": 3
   },
   "file_extension": ".py",
   "mimetype": "text/x-python",
   "name": "python",
   "nbconvert_exporter": "python",
   "pygments_lexer": "ipython3",
   "version": "3.9.12"
  }
 },
 "nbformat": 4,
 "nbformat_minor": 5
}
